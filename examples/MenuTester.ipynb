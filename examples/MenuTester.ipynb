{
 "cells": [
  {
   "cell_type": "code",
   "execution_count": 2,
   "metadata": {
    "collapsed": false
   },
   "outputs": [],
   "source": [
    "from easygui import *\n",
    "import sys"
   ]
  },
  {
   "cell_type": "code",
   "execution_count": 3,
   "metadata": {
    "collapsed": false
   },
   "outputs": [
    {
     "data": {
      "text/plain": [
       "True"
      ]
     },
     "execution_count": 3,
     "metadata": {},
     "output_type": "execute_result"
    }
   ],
   "source": [
    "ynbox('Shall I continue?', 'Title', ('Yes', 'No'))"
   ]
  },
  {
   "cell_type": "code",
   "execution_count": 4,
   "metadata": {
    "collapsed": false,
    "scrolled": true
   },
   "outputs": [
    {
     "data": {
      "text/plain": [
       "'OK'"
      ]
     },
     "execution_count": 4,
     "metadata": {},
     "output_type": "execute_result"
    }
   ],
   "source": [
    "msgbox('This is a basic message box.', 'Title Goes Here')"
   ]
  },
  {
   "cell_type": "code",
   "execution_count": 5,
   "metadata": {
    "collapsed": false
   },
   "outputs": [
    {
     "data": {
      "text/plain": [
       "'Chocolate'"
      ]
     },
     "execution_count": 5,
     "metadata": {},
     "output_type": "execute_result"
    }
   ],
   "source": [
    "buttonbox('Click on your favorite flavor.', 'Favorite Flavor', ('Chocolate', 'Vanilla', 'Strawberry'))"
   ]
  },
  {
   "cell_type": "code",
   "execution_count": 6,
   "metadata": {
    "collapsed": false
   },
   "outputs": [],
   "source": [
    "if ynbox():\n",
    "    pass # continue\n",
    "else:\n",
    "    sys.exit(0)  # exit the program"
   ]
  },
  {
   "cell_type": "code",
   "execution_count": 12,
   "metadata": {
    "collapsed": false
   },
   "outputs": [],
   "source": [
    "if ccbox():\n",
    "    pass # continue\n",
    "else:\n",
    "    sys.exit(0)  # exit the program"
   ]
  },
  {
   "cell_type": "code",
   "execution_count": 7,
   "metadata": {
    "collapsed": false
   },
   "outputs": [
    {
     "name": "stdout",
     "output_type": "stream",
     "text": [
      "['This', 'that', 'asd', 'asd', 'asd']\n"
     ]
    }
   ],
   "source": [
    "msg = \"Enter your personal information\"\n",
    "title = \"Credit Card Application\"\n",
    "fieldNames = [\"Name\",\"Street Address\",\"City\",\"State\",\"ZipCode\"]\n",
    "fieldValues = []  # we start with blanks for the values\n",
    "fieldValues = multenterbox(msg,title, fieldNames)\n",
    "\n",
    "# make sure that none of the fields was left blank\n",
    "while 1:\n",
    "    if fieldValues is None: break\n",
    "    errmsg = \"\"\n",
    "    for i in range(len(fieldNames)):\n",
    "        if fieldValues[i].strip() == \"\":\n",
    "            errmsg += ('\"%s\" is a required field.\\n\\n' % fieldNames[i])\n",
    "    if errmsg == \"\":\n",
    "        break # no problems found\n",
    "    fieldValues = multenterbox(errmsg, title, fieldNames, fieldValues)\n",
    "\n",
    "print fieldValues"
   ]
  },
  {
   "cell_type": "code",
   "execution_count": 15,
   "metadata": {
    "collapsed": false
   },
   "outputs": [],
   "source": [
    "out = fileopenbox(msg='Load GCode file', title='GCode Plasma Parser', default='*', filetypes=None, multiple=False)"
   ]
  },
  {
   "cell_type": "code",
   "execution_count": 10,
   "metadata": {
    "collapsed": false
   },
   "outputs": [],
   "source": [
    "filesavebox(msg=None, title=None, default='.nc', filetypes=['.nc'])"
   ]
  },
  {
   "cell_type": "code",
   "execution_count": 14,
   "metadata": {
    "collapsed": false,
    "scrolled": true
   },
   "outputs": [
    {
     "name": "stdout",
     "output_type": "stream",
     "text": [
      "[0]\n",
      "[0]\n"
     ]
    },
    {
     "ename": "SystemExit",
     "evalue": "0",
     "output_type": "error",
     "traceback": [
      "An exception has occurred, use %tb to see the full traceback.\n",
      "\u001b[0;31mSystemExit\u001b[0m\u001b[0;31m:\u001b[0m 0\n"
     ]
    }
   ],
   "source": [
    "while 1:\n",
    "    msgbox(\"Hello, world!\")\n",
    "\n",
    "    msg =\"\"\"This is supposed to be \n",
    "    a multiline message in a message\n",
    "    box. Does it work\"\"\"\n",
    "    title = \"Ice Cream Survey\"\n",
    "    choices = [\"Vanilla\", \"Chocolate\", \"Strawberry\", \"Rocky Road\"]\n",
    "    choice = choicebox(msg, title, choices)\n",
    "\n",
    "    # note that we convert choice to string, in case\n",
    "    # the user cancelled the choice, and we got None.\n",
    "    msgbox(\"You chose: \" + str(choice), \"Survey Result\")\n",
    "\n",
    "    msg = \"Do you want to continue?\"\n",
    "    title = \"Please Confirm\"\n",
    "    if ccbox(msg, title):     # show a Continue/Cancel dialog\n",
    "        pass  # user chose Continue\n",
    "    else:\n",
    "        sys.exit(0)           # user chose Cancel"
   ]
  },
  {
   "cell_type": "code",
   "execution_count": 12,
   "metadata": {
    "collapsed": false
   },
   "outputs": [
    {
     "name": "stdout",
     "output_type": "stream",
     "text": [
      "[0]\n"
     ]
    },
    {
     "data": {
      "text/plain": [
       "['Y']"
      ]
     },
     "execution_count": 12,
     "metadata": {},
     "output_type": "execute_result"
    }
   ],
   "source": [
    "choices = [\"Y\",\"N\",\"this\"]\n",
    "multchoicebox(msg='Choose from the following', title=\"Multichoice Box\", choices=choices)"
   ]
  }
 ],
 "metadata": {
  "kernelspec": {
   "display_name": "Python 2",
   "language": "python",
   "name": "python2"
  },
  "language_info": {
   "codemirror_mode": {
    "name": "ipython",
    "version": 2
   },
   "file_extension": ".py",
   "mimetype": "text/x-python",
   "name": "python",
   "nbconvert_exporter": "python",
   "pygments_lexer": "ipython2",
   "version": "2.7.12"
  }
 },
 "nbformat": 4,
 "nbformat_minor": 0
}
