{
 "cells": [
  {
   "cell_type": "code",
   "execution_count": 14,
   "metadata": {
    "collapsed": true
   },
   "outputs": [],
   "source": [
    "import easygui as eg\n",
    "import sys"
   ]
  },
  {
   "cell_type": "code",
   "execution_count": 2,
   "metadata": {
    "collapsed": false
   },
   "outputs": [
    {
     "data": {
      "text/plain": [
       "True"
      ]
     },
     "execution_count": 2,
     "metadata": {},
     "output_type": "execute_result"
    }
   ],
   "source": [
    "eg.ynbox('Shall I continue?', 'Title', ('Yes', 'No'))"
   ]
  },
  {
   "cell_type": "code",
   "execution_count": 3,
   "metadata": {
    "collapsed": false,
    "scrolled": true
   },
   "outputs": [
    {
     "data": {
      "text/plain": [
       "'OK'"
      ]
     },
     "execution_count": 3,
     "metadata": {},
     "output_type": "execute_result"
    }
   ],
   "source": [
    "eg.msgbox('This is a basic message box.', 'Title Goes Here')"
   ]
  },
  {
   "cell_type": "code",
   "execution_count": 4,
   "metadata": {
    "collapsed": false
   },
   "outputs": [
    {
     "data": {
      "text/plain": [
       "'Chocolate'"
      ]
     },
     "execution_count": 4,
     "metadata": {},
     "output_type": "execute_result"
    }
   ],
   "source": [
    "eg.buttonbox('Click on your favorite flavor.', 'Favorite Flavor', ('Chocolate', 'Vanilla', 'Strawberry'))"
   ]
  },
  {
   "cell_type": "code",
   "execution_count": 9,
   "metadata": {
    "collapsed": false
   },
   "outputs": [],
   "source": [
    "if eg.ynbox():\n",
    "    pass # continue\n",
    "else:\n",
    "    sys.exit(0)  # exit the program"
   ]
  },
  {
   "cell_type": "code",
   "execution_count": 12,
   "metadata": {
    "collapsed": false
   },
   "outputs": [],
   "source": [
    "if eg.ccbox():\n",
    "    pass # continue\n",
    "else:\n",
    "    sys.exit(0)  # exit the program"
   ]
  },
  {
   "cell_type": "code",
   "execution_count": 19,
   "metadata": {
    "collapsed": false
   },
   "outputs": [
    {
     "name": "stdout",
     "output_type": "stream",
     "text": [
      "None\n"
     ]
    }
   ],
   "source": [
    "msg = \"Enter your personal information\"\n",
    "title = \"Credit Card Application\"\n",
    "fieldNames = [\"Name\",\"Street Address\",\"City\",\"State\",\"ZipCode\"]\n",
    "fieldValues = []  # we start with blanks for the values\n",
    "fieldValues = eg.multenterbox(msg,title, fieldNames)\n",
    "\n",
    "# make sure that none of the fields was left blank\n",
    "while 1:\n",
    "    if fieldValues is None: break\n",
    "    errmsg = \"\"\n",
    "    for i in range(len(fieldNames)):\n",
    "        if fieldValues[i].strip() == \"\":\n",
    "            errmsg += ('\"%s\" is a required field.\\n\\n' % fieldNames[i])\n",
    "    if errmsg == \"\":\n",
    "        break # no problems found\n",
    "    fieldValues = eg.multenterbox(errmsg, title, fieldNames, fieldValues)\n",
    "\n",
    "print fieldValues"
   ]
  },
  {
   "cell_type": "code",
   "execution_count": 20,
   "metadata": {
    "collapsed": false
   },
   "outputs": [
    {
     "data": {
      "text/plain": [
       "u'.'"
      ]
     },
     "execution_count": 20,
     "metadata": {},
     "output_type": "execute_result"
    }
   ],
   "source": [
    "eg.fileopenbox(msg='Load GCode file', title='GCode Plasma Parser', default='*', filetypes=None, multiple=False)"
   ]
  },
  {
   "cell_type": "code",
   "execution_count": 24,
   "metadata": {
    "collapsed": false
   },
   "outputs": [
    {
     "data": {
      "text/plain": [
       "'/home/lap/projects/plasmaParser/plasmaParser/this.nc'"
      ]
     },
     "execution_count": 24,
     "metadata": {},
     "output_type": "execute_result"
    }
   ],
   "source": [
    "eg.filesavebox(msg=None, title=None, default='.nc', filetypes=['.nc'])"
   ]
  },
  {
   "cell_type": "code",
   "execution_count": 26,
   "metadata": {
    "collapsed": false
   },
   "outputs": [
    {
     "ename": "NameError",
     "evalue": "name 'msgbox' is not defined",
     "output_type": "error",
     "traceback": [
      "\u001b[1;31m---------------------------------------------------------------------------\u001b[0m",
      "\u001b[1;31mNameError\u001b[0m                                 Traceback (most recent call last)",
      "\u001b[1;32m<ipython-input-26-9bdfbe2ac6ed>\u001b[0m in \u001b[0;36m<module>\u001b[1;34m()\u001b[0m\n\u001b[0;32m      1\u001b[0m \u001b[1;32mwhile\u001b[0m \u001b[1;36m1\u001b[0m\u001b[1;33m:\u001b[0m\u001b[1;33m\u001b[0m\u001b[0m\n\u001b[1;32m----> 2\u001b[1;33m     \u001b[0mmsgbox\u001b[0m\u001b[1;33m(\u001b[0m\u001b[1;34m\"Hello, world!\"\u001b[0m\u001b[1;33m)\u001b[0m\u001b[1;33m\u001b[0m\u001b[0m\n\u001b[0m\u001b[0;32m      3\u001b[0m \u001b[1;33m\u001b[0m\u001b[0m\n\u001b[0;32m      4\u001b[0m     \u001b[0mmsg\u001b[0m \u001b[1;33m=\u001b[0m\u001b[1;34m\"What is your favorite flavor?\"\u001b[0m\u001b[1;33m\u001b[0m\u001b[0m\n\u001b[0;32m      5\u001b[0m     \u001b[0mtitle\u001b[0m \u001b[1;33m=\u001b[0m \u001b[1;34m\"Ice Cream Survey\"\u001b[0m\u001b[1;33m\u001b[0m\u001b[0m\n",
      "\u001b[1;31mNameError\u001b[0m: name 'msgbox' is not defined"
     ]
    }
   ],
   "source": [
    "while 1:\n",
    "    msgbox(\"Hello, world!\")\n",
    "\n",
    "    msg =\"What is your favorite flavor?\"\n",
    "    title = \"Ice Cream Survey\"\n",
    "    choices = [\"Vanilla\", \"Chocolate\", \"Strawberry\", \"Rocky Road\"]\n",
    "    choice = choicebox(msg, title, choices)\n",
    "\n",
    "    # note that we convert choice to string, in case\n",
    "    # the user cancelled the choice, and we got None.\n",
    "    msgbox(\"You chose: \" + str(choice), \"Survey Result\")\n",
    "\n",
    "    msg = \"Do you want to continue?\"\n",
    "    title = \"Please Confirm\"\n",
    "    if ccbox(msg, title):     # show a Continue/Cancel dialog\n",
    "        pass  # user chose Continue\n",
    "    else:\n",
    "        sys.exit(0)           # user chose Cancel"
   ]
  }
 ],
 "metadata": {
  "kernelspec": {
   "display_name": "Python 2",
   "language": "python",
   "name": "python2"
  },
  "language_info": {
   "codemirror_mode": {
    "name": "ipython",
    "version": 2
   },
   "file_extension": ".py",
   "mimetype": "text/x-python",
   "name": "python",
   "nbconvert_exporter": "python",
   "pygments_lexer": "ipython2",
   "version": "2.7.6"
  }
 },
 "nbformat": 4,
 "nbformat_minor": 0
}
