{
 "cells": [
  {
   "cell_type": "code",
   "execution_count": 73,
   "metadata": {
    "collapsed": false
   },
   "outputs": [
    {
     "name": "stdout",
     "output_type": "stream",
     "text": [
      "The autoreload extension is already loaded. To reload it, use:\n",
      "  %reload_ext autoreload\n"
     ]
    }
   ],
   "source": [
    "%load_ext autoreload\n",
    "%autoreload 2\n",
    "import parser"
   ]
  },
  {
   "cell_type": "code",
   "execution_count": 117,
   "metadata": {
    "collapsed": false,
    "scrolled": true
   },
   "outputs": [],
   "source": [
    "p = parser.Parser('gcodes/test.txt')\n",
    "# p.cleanBlock(p.lines[12])"
   ]
  },
  {
   "cell_type": "code",
   "execution_count": 127,
   "metadata": {
    "collapsed": false
   },
   "outputs": [
    {
     "name": "stdout",
     "output_type": "stream",
     "text": [
      "[[21, 26], [30, 35], [38, 43]]\n"
     ]
    },
    {
     "data": {
      "text/plain": [
       "[0, 1, 2, 3, 4, 5, 6, 7, 8, 9, 10, 11, 12, 13, 14, 15, 16, 17, 18, 19, 20]"
      ]
     },
     "execution_count": 127,
     "metadata": {},
     "output_type": "execute_result"
    }
   ],
   "source": [
    "p.workBlocks\n",
    "print p.workBlocks\n",
    "range(0, 21)"
   ]
  },
  {
   "cell_type": "code",
   "execution_count": 121,
   "metadata": {
    "collapsed": false
   },
   "outputs": [],
   "source": [
    "def injectCode(P):\n",
    "    blockIndx = 0\n",
    "    for block in P.workBlocks:\n",
    "        # inject existing code up until the start of this workblock\n",
    "        for i in range(blockIndx, block[0]):\n",
    "\n",
    "            P.fidout.write(P.cleanCode[i])\n",
    "            blockIndx = block[2]+1\n",
    "\n",
    "            P.fidout.write('(Injected code below)\\n')\n",
    "\n",
    "            for customBlockCode in self.startWorkBlock:\n",
    "                P.fidout.write(customBlockCode + '\\n')\n",
    "\n",
    "            P.fidout.write('(Injected code above)\\n')\n",
    "\n",
    "            for lineIndx in range(block[0],block[1]):\n",
    "                P.fidout.write(P.cleanCode[lineIndx])\n",
    "\n",
    "            P.fidout.write('(Injected code below)\\n')\n",
    "\n",
    "            for customBlockCode in P.endWorkBlock:\n",
    "                P.fidout.write(customBlockCode + '\\n')\n",
    "\n",
    "            self.fidout.write('(Injected code above)\\n')\n",
    "\n",
    "    for block in P.cleanCode[P.workBlocks[-1,1]:]:\n",
    "        P.fidout.write(block)\n",
    "    P.fidout.close()"
   ]
  },
  {
   "cell_type": "code",
   "execution_count": 130,
   "metadata": {
    "collapsed": false
   },
   "outputs": [
    {
     "data": {
      "text/plain": [
       "['( TestToolPath )\\n',\n",
       " '( File created: ... )\\n',\n",
       " '( for Mach2/3 vrom Vectric )\\n',\n",
       " '( Material Size )\\n',\n",
       " '( X = 500.000, Y = 500.000, Z = 10.000 )\\n',\n",
       " '( Material Size )\\n',\n",
       " '()\\n',\n",
       " '( Toolpaths used i this file: )\\n',\n",
       " '( Profile 1 )\\n',\n",
       " '( 0 = Ed Mill {1.5 mm} )\\n',\n",
       " 'G00G21G17G90G40G49G80\\n',\n",
       " 'G71G91.1\\n',\n",
       " 'T0M06\\n',\n",
       " ' (End Mill {1.5 mm})\\n',\n",
       " 'G00G43Z20.000H0\\n',\n",
       " 'S0\\n',\n",
       " '(Toolpath:- Profile 1)\\n',\n",
       " '()\\n',\n",
       " 'G94\\n',\n",
       " 'X0.000Y0.000F12000.0\\n',\n",
       " 'G00X131.124Y350.212Z6.000\\n',\n",
       " 'G1X131.124Y350.212Z-7.000F12000.0\\n',\n",
       " 'G1X131.124Y346.212Z-7.000\\n',\n",
       " 'G2X206.124Y271.212I0.000J-75.000\\n',\n",
       " 'G2X131.124Y196.212I-75.000J0.000\\n',\n",
       " 'G2X56.124Y271.212I0.000J75.000\\n',\n",
       " 'G2X131.124Y346.212I75.000J0.000\\n',\n",
       " 'G00X131.124Y346.212Z6.000\\n',\n",
       " 'G00Z20.000\\n',\n",
       " 'G00X131.124Y350.212Z6.000\\n',\n",
       " 'G1X131.124Y350.212Z-7.000F12000.0\\n',\n",
       " 'G1X131.124Y346.212Z-7.000\\n',\n",
       " 'G2X206.124Y271.212I0.000J-75.000\\n',\n",
       " 'G2X131.124Y196.212I-75.000J0.000\\n',\n",
       " 'G2X56.124Y271.212I0.000J75.000\\n',\n",
       " 'G2X131.124Y346.212I75.000J0.000\\n',\n",
       " 'G00X131.124Y346.212Z6.000\\n',\n",
       " 'G00X131.124Y350.212Z6.000\\n',\n",
       " 'G1X131.124Y350.212Z-7.000F12000.0\\n',\n",
       " 'G1X131.124Y346.212Z-7.000\\n',\n",
       " 'G2X206.124Y271.212I0.000J-75.000\\n',\n",
       " 'G2X131.124Y196.212I-75.000J0.000\\n',\n",
       " 'G2X56.124Y271.212I0.000J75.000\\n',\n",
       " 'G2X131.124Y346.212I75.000J0.000\\n',\n",
       " 'G00X131.124Y346.212Z6.000\\n',\n",
       " 'G00X0.000Y0.000\\n',\n",
       " 'M09\\n',\n",
       " 'M30\\n',\n",
       " '%\\n']"
      ]
     },
     "execution_count": 130,
     "metadata": {},
     "output_type": "execute_result"
    }
   ],
   "source": [
    "p.cleanCode"
   ]
  }
 ],
 "metadata": {
  "kernelspec": {
   "display_name": "Python 2",
   "language": "python",
   "name": "python2"
  },
  "language_info": {
   "codemirror_mode": {
    "name": "ipython",
    "version": 2
   },
   "file_extension": ".py",
   "mimetype": "text/x-python",
   "name": "python",
   "nbconvert_exporter": "python",
   "pygments_lexer": "ipython2",
   "version": "2.7.6"
  }
 },
 "nbformat": 4,
 "nbformat_minor": 0
}
